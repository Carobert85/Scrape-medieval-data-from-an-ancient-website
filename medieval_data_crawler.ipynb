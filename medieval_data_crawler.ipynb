{
 "cells": [
  {
   "cell_type": "code",
   "execution_count": null,
   "metadata": {},
   "outputs": [],
   "source": [
    "#webscraper tool\n",
    "from selenium import webdriver\n",
    "#Technically unneccesary, but I like to time how long some operations take\n",
    "from datetime import datetime\n",
    "# For cleaning up data\n",
    "import pandas as pd\n",
    "# for handling .txt file\n",
    "import os"
   ]
  },
  {
   "cell_type": "code",
   "execution_count": null,
   "metadata": {},
   "outputs": [],
   "source": [
    "# Instantiates the driver\n",
    "driver = webdriver.Chrome()"
   ]
  },
  {
   "cell_type": "code",
   "execution_count": null,
   "metadata": {},
   "outputs": [],
   "source": [
    "#I set the root of all the databases as the base for selenium so I #can recycle the code to scrape the other databases\n",
    "home = 'http://www2.scc.rutgers.edu/memdb/database_list.html'\n",
    "#Tells selenium to go to the base url\n",
    "driver.get(home)"
   ]
  },
  {
   "cell_type": "code",
   "execution_count": null,
   "metadata": {},
   "outputs": [],
   "source": [
    "#This is the name of the link text in the first link\n",
    "first_link = 'Prices (Metz)'\n",
    "\n",
    "#This is the command that tells Selenium to click the first link:\n",
    "driver.find_element_by_link_text(first_link).click()"
   ]
  },
  {
   "cell_type": "code",
   "execution_count": null,
   "metadata": {},
   "outputs": [],
   "source": [
    "#found by using the copy xpath tool in the browser inspector\n",
    "second_link = '/html/body/main/table/tbody/tr/td[2]/form/p/input'\n",
    "\n",
    "#clicks the button\n",
    "driver.find_element_by_xpath(second_link).click()"
   ]
  },
  {
   "cell_type": "code",
   "execution_count": null,
   "metadata": {},
   "outputs": [],
   "source": [
    "# name of our text file\n",
    "filename = 'Metz_prices_demo.txt'\n",
    "# creates .txt file\n",
    "file_object  = open(filename, \"w+\") "
   ]
  },
  {
   "cell_type": "code",
   "execution_count": null,
   "metadata": {},
   "outputs": [],
   "source": [
    "# Starts our counter for our while loop\n",
    "counter = 0\n",
    "# Sets our file to have table data appended to it\n",
    "export = open(filename, 'a+')\n",
    "# Optional, but I like to time how long certain functions take\n",
    "start = datetime.now()\n",
    "\n",
    "# While loop that goes through each page and saves the data\n",
    "while counter < 402:\n",
    "    # The location of the table on every page\n",
    "    table_loc = '/html/body/form/main/table/tbody/tr/td[2]/p[3]/table/tbody'\n",
    "    # The selenium function that gets the data from the table and loads it into a variable\n",
    "    page_text = driver.find_element_by_xpath(table_loc).text\n",
    "    # The function that writes the table data into our .txt file\n",
    "    export.write(page_text + '\\n')\n",
    "    try:\n",
    "        # More common page layout\n",
    "        button_path = '/html/body/form/main/table/tbody/tr/td[2]/center[3]/input[2]'\n",
    "        driver.find_element_by_xpath(button_path).click()\n",
    "    except:\n",
    "        # Less common page layout\n",
    "        button_path = '/html/body/form/main/table/tbody/tr/td[2]/center[3]/input'\n",
    "        driver.find_element_by_xpath(button_path).click()\n",
    "    # Adds 1 to the counter\n",
    "    counter += 1\n",
    "\n",
    "# Timestamps the end of the loop\n",
    "end = datetime.now()\n",
    "# Calculates the duration of the loop\n",
    "duration = end - start\n",
    "\n",
    "#Prints the duration\n",
    "print(duration)"
   ]
  },
  {
   "cell_type": "code",
   "execution_count": null,
   "metadata": {},
   "outputs": [],
   "source": [
    "column_names = ['Num', 'Year', 'Month', 'Week', 'Product', 'Number_of_Malters_Sold', 'Currency', 'Price_per_Malter']\n",
    "# Opens the .txt, uses the two space delimeter, skips the first 3 rows, and sets the column names to the list of names above\n",
    "df = pd.read_csv('Metz_prices_demo.txt', sep = '  ', skiprows = 3, names = column_names, header = None)\n",
    "df"
   ]
  },
  {
   "cell_type": "code",
   "execution_count": null,
   "metadata": {},
   "outputs": [],
   "source": [
    "#Shows a header row that we need to clean\n",
    "df.iloc[[100]]"
   ]
  },
  {
   "cell_type": "code",
   "execution_count": null,
   "metadata": {},
   "outputs": [],
   "source": [
    "# Removes all rows from the dataframe where the contents of the 'Num' column have letters in them\n",
    "df = df[~df['Num'].str.contains(\"[a-zA-Z]\").fillna(False)]\n",
    "df"
   ]
  },
  {
   "cell_type": "code",
   "execution_count": null,
   "metadata": {},
   "outputs": [],
   "source": [
    "# Removes duplicate rows that we might have accidentally grabbed from the data\n",
    "df.drop_duplicates(subset = ['Num'], keep = 'first', inplace = True)\n",
    "df.reset_index(inplace = True)"
   ]
  },
  {
   "cell_type": "code",
   "execution_count": null,
   "metadata": {},
   "outputs": [],
   "source": [
    "df"
   ]
  },
  {
   "cell_type": "code",
   "execution_count": null,
   "metadata": {},
   "outputs": [],
   "source": [
    "# exports the clean dataframe to a csv\n",
    "df.to_csv('koln_grain_prices.csv')"
   ]
  }
 ],
 "metadata": {
  "kernelspec": {
   "display_name": "Python 3",
   "language": "python",
   "name": "python3"
  },
  "language_info": {
   "codemirror_mode": {
    "name": "ipython",
    "version": 3
   },
   "file_extension": ".py",
   "mimetype": "text/x-python",
   "name": "python",
   "nbconvert_exporter": "python",
   "pygments_lexer": "ipython3",
   "version": "3.7.7"
  }
 },
 "nbformat": 4,
 "nbformat_minor": 4
}
